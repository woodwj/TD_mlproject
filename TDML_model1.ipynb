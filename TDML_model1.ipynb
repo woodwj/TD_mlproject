{
  "cells": [
    {
      "cell_type": "markdown",
      "metadata": {
        "id": "view-in-github",
        "colab_type": "text"
      },
      "source": [
        "<a href=\"https://colab.research.google.com/github/woodwj/TD_mlproject/blob/Model_1/TDML_model1.ipynb\" target=\"_parent\"><img src=\"https://colab.research.google.com/assets/colab-badge.svg\" alt=\"Open In Colab\"/></a>"
      ]
    },
    {
      "cell_type": "markdown",
      "metadata": {
        "id": "ah9q16bzUtQ8"
      },
      "source": [
        "# Week 1 - Investigations"
      ]
    },
    {
      "cell_type": "code",
      "execution_count": null,
      "metadata": {
        "colab": {
          "base_uri": "https://localhost:8080/"
        },
        "id": "QdeI8Y2HWYL7",
        "outputId": "f871d529-ab62-4411-e949-c10fa79a3ad6"
      },
      "outputs": [
        {
          "output_type": "stream",
          "name": "stdout",
          "text": [
            "Looking in indexes: https://pypi.org/simple, https://us-python.pkg.dev/colab-wheels/public/simple/\n",
            "Collecting yfinance\n",
            "  Downloading yfinance-0.1.74-py2.py3-none-any.whl (27 kB)\n",
            "Requirement already satisfied: pandas>=0.24.0 in /usr/local/lib/python3.7/dist-packages (from yfinance) (1.3.5)\n",
            "Requirement already satisfied: lxml>=4.5.1 in /usr/local/lib/python3.7/dist-packages (from yfinance) (4.9.1)\n",
            "Requirement already satisfied: multitasking>=0.0.7 in /usr/local/lib/python3.7/dist-packages (from yfinance) (0.0.11)\n",
            "Requirement already satisfied: numpy>=1.15 in /usr/local/lib/python3.7/dist-packages (from yfinance) (1.21.6)\n",
            "Collecting requests>=2.26\n",
            "  Downloading requests-2.28.1-py3-none-any.whl (62 kB)\n",
            "\u001b[K     |████████████████████████████████| 62 kB 1.3 MB/s \n",
            "\u001b[?25hRequirement already satisfied: python-dateutil>=2.7.3 in /usr/local/lib/python3.7/dist-packages (from pandas>=0.24.0->yfinance) (2.8.2)\n",
            "Requirement already satisfied: pytz>=2017.3 in /usr/local/lib/python3.7/dist-packages (from pandas>=0.24.0->yfinance) (2022.2.1)\n",
            "Requirement already satisfied: six>=1.5 in /usr/local/lib/python3.7/dist-packages (from python-dateutil>=2.7.3->pandas>=0.24.0->yfinance) (1.15.0)\n",
            "Requirement already satisfied: urllib3<1.27,>=1.21.1 in /usr/local/lib/python3.7/dist-packages (from requests>=2.26->yfinance) (1.24.3)\n",
            "Requirement already satisfied: charset-normalizer<3,>=2 in /usr/local/lib/python3.7/dist-packages (from requests>=2.26->yfinance) (2.1.1)\n",
            "Requirement already satisfied: idna<4,>=2.5 in /usr/local/lib/python3.7/dist-packages (from requests>=2.26->yfinance) (2.10)\n",
            "Requirement already satisfied: certifi>=2017.4.17 in /usr/local/lib/python3.7/dist-packages (from requests>=2.26->yfinance) (2022.6.15)\n",
            "Installing collected packages: requests, yfinance\n",
            "  Attempting uninstall: requests\n",
            "    Found existing installation: requests 2.23.0\n",
            "    Uninstalling requests-2.23.0:\n",
            "      Successfully uninstalled requests-2.23.0\n",
            "Successfully installed requests-2.28.1 yfinance-0.1.74\n"
          ]
        }
      ],
      "source": [
        "!pip install yfinance # collect packages"
      ]
    },
    {
      "cell_type": "markdown",
      "source": [
        "**Model 1 - Normal Equations; predicting stock closing prices from opening prices**"
      ],
      "metadata": {
        "id": "yFmJGNtUF0vc"
      }
    },
    {
      "cell_type": "code",
      "execution_count": null,
      "metadata": {
        "id": "7y0Ewj9MVIGw"
      },
      "outputs": [],
      "source": [
        "import yfinance as yf\n",
        "import numpy as np\n",
        "import matplotlib.pyplot as plt\n",
        "from statsmodels.graphics.tsaplots import plot_acf\n",
        "from sklearn.metrics import mean_absolute_percentage_error\n",
        "\n",
        "class dataset:\n",
        "  \n",
        "    def fetch(self, stock, period):\n",
        "        d = yf.download(stock, period=period)\n",
        "        return d[\"Open\"].to_numpy().reshape(d.shape[0],1), d[\"Close\"].to_numpy().reshape(d.shape[0],1)\n",
        "\n",
        "    def tilda(self,data):\n",
        "        return np.concatenate([np.ones((data.shape[0],1)), data],axis=1)\n",
        "\n",
        "    # use \"period\" instead of start/end\n",
        "    # valid periods: 1d,5d,1mo,3mo,6mo,1y,2y,5y,10y,ytd,max\n",
        "    # (optional, default is '1mo')\n",
        "    def __init__(self,stocks,period):\n",
        "        X,Y = self.fetch(stocks, period)\n",
        "        split = int(len(X)*0.8)\n",
        "        X_tr = X[:split]\n",
        "        X_te = X[split:]\n",
        "        self.Y_tr = Y[:split]\n",
        "        self.Y_te = Y[split:]\n",
        "        self.X_te = self.tilda(X_te)\n",
        "        self.X_tr = self.tilda(X_tr)\n",
        "        self.X_val = self.tilda(X)\n",
        "        self.Y_val = Y\n",
        "        \n",
        "class pen_inv_model:\n",
        "\n",
        "    def __init__(self, dataset):\n",
        "        self.data = dataset\n",
        "\n",
        "    def train(self):\n",
        "        self.W = np.linalg.pinv(self.data.X_tr) @ self.data.Y_tr\n",
        "\n",
        "    def f(self,X_t):\n",
        "        return  X_t @ self.W\n",
        "\n",
        "    def error(self):\n",
        "        return self.data.Y_te - self.f(self.data.X_te)\n",
        "\n",
        "    def RMSE(self):\n",
        "        return np.sqrt(np.mean((self.error())**2))\n",
        "\n",
        "    def MAPE(self):\n",
        "      return mean_absolute_percentage_error(self.data.Y_te,self.f(self.data.X_te))\n"
      ]
    },
    {
      "cell_type": "code",
      "source": [
        "def experiment(stocks, periods):\n",
        "\n",
        "  for stock in stocks.split():\n",
        "    print(f\"\\nRESULTS FOR {stock}\\n\")\n",
        "    RMSE_scores = {}\n",
        "    MAPE_scores = {}\n",
        "\n",
        "    for period in periods:\n",
        "      print(\"PERIOD:\"+period)\n",
        "      d = dataset(stock,period)\n",
        "      model = pen_inv_model(d)\n",
        "      model.train()\n",
        "      y_prediction = model.f(d.X_te)\n",
        "\n",
        "      RMSE_scores[period] = model.RMSE()\n",
        "      MAPE_scores[period] = model.MAPE()\n",
        "\n",
        "      # plot predicted against input with actual\n",
        "      pred, = plt.plot(d.X_te[:,1:], y_prediction, c='crimson')\n",
        "      pred.set_label('Line of regression')\n",
        "      actu= plt.scatter(d.X_te[:,1:], d.Y_te, c ='blue')\n",
        "      actu.set_label('Actual Closing Prices')\n",
        "      plt.legend()\n",
        "      plt.xlabel('Opening Price')\n",
        "      plt.ylabel('Closing Price')\n",
        "      plt.tight_layout()\n",
        "      plt.show()\n",
        "\n",
        "    # d is max period dataset\n",
        "    plot_acf(d.X_te[:,1:], lags=40)\n",
        "    plt.show()\n",
        "\n",
        "    plt.plot(list(RMSE_scores.keys()),list(RMSE_scores.values()))\n",
        "    plt.grid()\n",
        "    plt.title(f\"RMSE error for {stock}\")\n",
        "    plt.show()\n",
        "\n",
        "    plt.plot(list(MAPE_scores.keys()),list(MAPE_scores.values()))\n",
        "    plt.grid()\n",
        "    plt.title(f\"MAPE error for {stock}\")\n",
        "    plt.show()\n",
        "\n",
        "# valid periods: 5d,1mo,3mo,6mo,1y,2y,5y,10y,ytd,max\n",
        "periods = (\"5d\",\"1mo\",\"3mo\",\"6mo\",\"1y\",\"2y\",\"5y\",\"10y\",\"max\")\n",
        "experiment(\"BP AAPL MSFT\",periods)"
      ],
      "metadata": {
        "id": "ljmhTnhkFgTw"
      },
      "execution_count": null,
      "outputs": []
    },
    {
      "cell_type": "markdown",
      "source": [
        "Error is strongly positvely corelated in timescale and error metrics with max data shows the effect of this corelation. Scatter graphs thus misleading with scale.\n",
        "\n",
        "Scatter graphs show our line of regression is too linear.  Next will add l2 regularization to stop this underfitting. Evaluating λ hyperameter and comparing our new model to the previous."
      ],
      "metadata": {
        "id": "GULsTseGCzqE"
      }
    },
    {
      "cell_type": "code",
      "source": [],
      "metadata": {
        "id": "B3W55LRCGHSu"
      },
      "execution_count": null,
      "outputs": []
    }
  ],
  "metadata": {
    "colab": {
      "collapsed_sections": [],
      "provenance": [],
      "authorship_tag": "ABX9TyNbnt9DO8cF4f4E3FZM0SBq",
      "include_colab_link": true
    },
    "gpuClass": "standard",
    "kernelspec": {
      "display_name": "Python 3",
      "name": "python3"
    },
    "language_info": {
      "name": "python"
    }
  },
  "nbformat": 4,
  "nbformat_minor": 0
}